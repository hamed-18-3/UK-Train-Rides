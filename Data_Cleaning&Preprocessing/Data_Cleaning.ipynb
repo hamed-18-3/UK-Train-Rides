{
 "cells": [
  {
   "cell_type": "markdown",
   "id": "0172739a",
   "metadata": {},
   "source": [
    "## Import Libraries"
   ]
  },
  {
   "cell_type": "code",
   "execution_count": 1,
   "id": "9ad82a17",
   "metadata": {},
   "outputs": [],
   "source": [
    "import pandas as pd\n",
    "import numpy as np\n"
   ]
  },
  {
   "cell_type": "markdown",
   "id": "adb36517",
   "metadata": {},
   "source": [
    "## Read the data\n"
   ]
  },
  {
   "cell_type": "code",
   "execution_count": 2,
   "id": "48f00122",
   "metadata": {},
   "outputs": [],
   "source": [
    "df = pd.read_csv(\"../datasets/railway.csv\" , sep =\",\")"
   ]
  },
  {
   "cell_type": "markdown",
   "id": "dee0552d",
   "metadata": {},
   "source": [
    "## check missing values"
   ]
  },
  {
   "cell_type": "code",
   "execution_count": 3,
   "id": "95535ed1",
   "metadata": {},
   "outputs": [
    {
     "data": {
      "text/plain": [
       "Transaction ID             0\n",
       "Date of Purchase           0\n",
       "Time of Purchase           0\n",
       "Purchase Type              0\n",
       "Payment Method             0\n",
       "Railcard               20918\n",
       "Ticket Class               0\n",
       "Ticket Type                0\n",
       "Price                      0\n",
       "Departure Station          0\n",
       "Arrival Destination        0\n",
       "Date of Journey            0\n",
       "Departure Time             0\n",
       "Arrival Time               0\n",
       "Actual Arrival Time     1880\n",
       "Journey Status             0\n",
       "Reason for Delay       27481\n",
       "Refund Request             0\n",
       "dtype: int64"
      ]
     },
     "execution_count": 3,
     "metadata": {},
     "output_type": "execute_result"
    }
   ],
   "source": [
    "df.isnull().sum()"
   ]
  },
  {
   "cell_type": "markdown",
   "id": "2aa5cd6b",
   "metadata": {},
   "source": [
    "## check for duplicates"
   ]
  },
  {
   "cell_type": "code",
   "execution_count": 4,
   "id": "247bad77",
   "metadata": {},
   "outputs": [
    {
     "data": {
      "text/plain": [
       "np.int64(0)"
      ]
     },
     "execution_count": 4,
     "metadata": {},
     "output_type": "execute_result"
    }
   ],
   "source": [
    "df.duplicated().sum()"
   ]
  },
  {
   "cell_type": "markdown",
   "id": "397b4c8f",
   "metadata": {},
   "source": [
    "### there is no duplicated values"
   ]
  },
  {
   "cell_type": "markdown",
   "id": "2cad0e3d",
   "metadata": {},
   "source": [
    "## Check types of columns"
   ]
  },
  {
   "cell_type": "code",
   "execution_count": 5,
   "id": "038a4b2a",
   "metadata": {},
   "outputs": [
    {
     "name": "stdout",
     "output_type": "stream",
     "text": [
      "<class 'pandas.core.frame.DataFrame'>\n",
      "RangeIndex: 31653 entries, 0 to 31652\n",
      "Data columns (total 18 columns):\n",
      " #   Column               Non-Null Count  Dtype \n",
      "---  ------               --------------  ----- \n",
      " 0   Transaction ID       31653 non-null  object\n",
      " 1   Date of Purchase     31653 non-null  object\n",
      " 2   Time of Purchase     31653 non-null  object\n",
      " 3   Purchase Type        31653 non-null  object\n",
      " 4   Payment Method       31653 non-null  object\n",
      " 5   Railcard             10735 non-null  object\n",
      " 6   Ticket Class         31653 non-null  object\n",
      " 7   Ticket Type          31653 non-null  object\n",
      " 8   Price                31653 non-null  int64 \n",
      " 9   Departure Station    31653 non-null  object\n",
      " 10  Arrival Destination  31653 non-null  object\n",
      " 11  Date of Journey      31653 non-null  object\n",
      " 12  Departure Time       31653 non-null  object\n",
      " 13  Arrival Time         31653 non-null  object\n",
      " 14  Actual Arrival Time  29773 non-null  object\n",
      " 15  Journey Status       31653 non-null  object\n",
      " 16  Reason for Delay     4172 non-null   object\n",
      " 17  Refund Request       31653 non-null  object\n",
      "dtypes: int64(1), object(17)\n",
      "memory usage: 4.3+ MB\n"
     ]
    }
   ],
   "source": [
    "df.info()"
   ]
  },
  {
   "cell_type": "markdown",
   "id": "61cd4107",
   "metadata": {},
   "source": [
    "### all coulmns don't have dedicated data type"
   ]
  },
  {
   "cell_type": "markdown",
   "id": "d5a6af3b",
   "metadata": {},
   "source": [
    "## Change type of columns"
   ]
  },
  {
   "cell_type": "markdown",
   "id": "6ce2b970",
   "metadata": {},
   "source": [
    "### For date columns"
   ]
  },
  {
   "cell_type": "code",
   "execution_count": 6,
   "id": "94217637",
   "metadata": {},
   "outputs": [],
   "source": [
    "df['Date of Purchase'] = pd.to_datetime(df['Date of Purchase'], errors='coerce')\n",
    "df['Date of Journey'] = pd.to_datetime(df['Date of Journey'], errors='coerce')\n",
    "df['Time of Purchase'] = pd.to_datetime(df['Time of Purchase'], format=\"%H:%M:%S\", errors='coerce').dt.time\n",
    "df['Departure Time'] = pd.to_datetime(df['Departure Time'], format=\"%H:%M:%S\", errors='coerce').dt.time\n",
    "df['Arrival Time'] = pd.to_datetime(df['Arrival Time'], format=\"%H:%M:%S\", errors='coerce').dt.time\n",
    "df['Actual Arrival Time'] = pd.to_datetime(df['Actual Arrival Time'], format=\"%H:%M:%S\", errors='coerce').dt.time"
   ]
  },
  {
   "cell_type": "markdown",
   "id": "f99da0fd",
   "metadata": {},
   "source": [
    "### For categeory columns"
   ]
  },
  {
   "cell_type": "code",
   "execution_count": 8,
   "id": "35abd072",
   "metadata": {},
   "outputs": [],
   "source": [
    "categorical_cols = [\n",
    "    \"Purchase Type\",       \n",
    "    \"Payment Method\",     \n",
    "    \"Railcard\",            \n",
    "    \"Ticket Class\",        \n",
    "    \"Ticket Type\",        \n",
    "    \"Departure Station\",  \n",
    "    \"Arrival Destination\",\n",
    "    \"Journey Status\",     \n",
    "    \"Reason for Delay\",   \n",
    "    \"Refund Request\"     \n",
    "]\n",
    "df[categorical_cols] = df[categorical_cols].astype(\"category\")"
   ]
  },
  {
   "cell_type": "markdown",
   "id": "6cc5b0e3",
   "metadata": {},
   "source": [
    "### For Numeric data"
   ]
  },
  {
   "cell_type": "code",
   "execution_count": 9,
   "id": "0bf7009f",
   "metadata": {},
   "outputs": [],
   "source": [
    "df['Price'] = pd.to_numeric(df['Price'], errors='coerce')"
   ]
  },
  {
   "cell_type": "markdown",
   "id": "e1dfefbc",
   "metadata": {},
   "source": [
    "## Data after change the categores"
   ]
  },
  {
   "cell_type": "code",
   "execution_count": 10,
   "id": "68afd5a1",
   "metadata": {},
   "outputs": [
    {
     "name": "stdout",
     "output_type": "stream",
     "text": [
      "<class 'pandas.core.frame.DataFrame'>\n",
      "RangeIndex: 31653 entries, 0 to 31652\n",
      "Data columns (total 18 columns):\n",
      " #   Column               Non-Null Count  Dtype         \n",
      "---  ------               --------------  -----         \n",
      " 0   Transaction ID       31653 non-null  object        \n",
      " 1   Date of Purchase     31653 non-null  datetime64[ns]\n",
      " 2   Time of Purchase     31653 non-null  object        \n",
      " 3   Purchase Type        31653 non-null  category      \n",
      " 4   Payment Method       31653 non-null  category      \n",
      " 5   Railcard             10735 non-null  category      \n",
      " 6   Ticket Class         31653 non-null  category      \n",
      " 7   Ticket Type          31653 non-null  category      \n",
      " 8   Price                31653 non-null  int64         \n",
      " 9   Departure Station    31653 non-null  category      \n",
      " 10  Arrival Destination  31653 non-null  category      \n",
      " 11  Date of Journey      31653 non-null  datetime64[ns]\n",
      " 12  Departure Time       31653 non-null  object        \n",
      " 13  Arrival Time         31653 non-null  object        \n",
      " 14  Actual Arrival Time  29773 non-null  object        \n",
      " 15  Journey Status       31653 non-null  category      \n",
      " 16  Reason for Delay     4172 non-null   category      \n",
      " 17  Refund Request       31653 non-null  category      \n",
      "dtypes: category(10), datetime64[ns](2), int64(1), object(5)\n",
      "memory usage: 2.2+ MB\n"
     ]
    }
   ],
   "source": [
    "df.info()"
   ]
  },
  {
   "cell_type": "markdown",
   "id": "bd122857",
   "metadata": {},
   "source": [
    "## Clean the String Data"
   ]
  },
  {
   "cell_type": "code",
   "execution_count": 11,
   "id": "0bfe0a00",
   "metadata": {},
   "outputs": [],
   "source": [
    "categorical_cols = [\n",
    "    \"Purchase Type\",       \n",
    "    \"Payment Method\",     \n",
    "    \"Railcard\",            \n",
    "    \"Ticket Class\",        \n",
    "    \"Ticket Type\",        \n",
    "    \"Departure Station\",  \n",
    "    \"Arrival Destination\",\n",
    "    \"Journey Status\",     \n",
    "    \"Reason for Delay\",   \n",
    "    \"Refund Request\"     \n",
    "]\n",
    "\n",
    "for col in categorical_cols:\n",
    "    df[col] = df[col].astype(str).str.strip().str.title()\n",
    "\n",
    "\n"
   ]
  },
  {
   "cell_type": "markdown",
   "id": "d3c34f72",
   "metadata": {},
   "source": [
    "## check the data"
   ]
  },
  {
   "cell_type": "code",
   "execution_count": 12,
   "id": "6cc8c290",
   "metadata": {},
   "outputs": [
    {
     "data": {
      "text/html": [
       "<div>\n",
       "<style scoped>\n",
       "    .dataframe tbody tr th:only-of-type {\n",
       "        vertical-align: middle;\n",
       "    }\n",
       "\n",
       "    .dataframe tbody tr th {\n",
       "        vertical-align: top;\n",
       "    }\n",
       "\n",
       "    .dataframe thead th {\n",
       "        text-align: right;\n",
       "    }\n",
       "</style>\n",
       "<table border=\"1\" class=\"dataframe\">\n",
       "  <thead>\n",
       "    <tr style=\"text-align: right;\">\n",
       "      <th></th>\n",
       "      <th>Transaction ID</th>\n",
       "      <th>Date of Purchase</th>\n",
       "      <th>Time of Purchase</th>\n",
       "      <th>Purchase Type</th>\n",
       "      <th>Payment Method</th>\n",
       "      <th>Railcard</th>\n",
       "      <th>Ticket Class</th>\n",
       "      <th>Ticket Type</th>\n",
       "      <th>Price</th>\n",
       "      <th>Departure Station</th>\n",
       "      <th>Arrival Destination</th>\n",
       "      <th>Date of Journey</th>\n",
       "      <th>Departure Time</th>\n",
       "      <th>Arrival Time</th>\n",
       "      <th>Actual Arrival Time</th>\n",
       "      <th>Journey Status</th>\n",
       "      <th>Reason for Delay</th>\n",
       "      <th>Refund Request</th>\n",
       "    </tr>\n",
       "  </thead>\n",
       "  <tbody>\n",
       "    <tr>\n",
       "      <th>0</th>\n",
       "      <td>da8a6ba8-b3dc-4677-b176</td>\n",
       "      <td>2023-12-08</td>\n",
       "      <td>12:41:11</td>\n",
       "      <td>Online</td>\n",
       "      <td>Contactless</td>\n",
       "      <td>Adult</td>\n",
       "      <td>Standard</td>\n",
       "      <td>Advance</td>\n",
       "      <td>43</td>\n",
       "      <td>London Paddington</td>\n",
       "      <td>Liverpool Lime Street</td>\n",
       "      <td>2024-01-01</td>\n",
       "      <td>11:00:00</td>\n",
       "      <td>13:30:00</td>\n",
       "      <td>13:30:00</td>\n",
       "      <td>On Time</td>\n",
       "      <td>Nan</td>\n",
       "      <td>No</td>\n",
       "    </tr>\n",
       "    <tr>\n",
       "      <th>1</th>\n",
       "      <td>b0cdd1b0-f214-4197-be53</td>\n",
       "      <td>2023-12-16</td>\n",
       "      <td>11:23:01</td>\n",
       "      <td>Station</td>\n",
       "      <td>Credit Card</td>\n",
       "      <td>Adult</td>\n",
       "      <td>Standard</td>\n",
       "      <td>Advance</td>\n",
       "      <td>23</td>\n",
       "      <td>London Kings Cross</td>\n",
       "      <td>York</td>\n",
       "      <td>2024-01-01</td>\n",
       "      <td>09:45:00</td>\n",
       "      <td>11:35:00</td>\n",
       "      <td>11:40:00</td>\n",
       "      <td>Delayed</td>\n",
       "      <td>Signal Failure</td>\n",
       "      <td>No</td>\n",
       "    </tr>\n",
       "    <tr>\n",
       "      <th>2</th>\n",
       "      <td>f3ba7a96-f713-40d9-9629</td>\n",
       "      <td>2023-12-19</td>\n",
       "      <td>19:51:27</td>\n",
       "      <td>Online</td>\n",
       "      <td>Credit Card</td>\n",
       "      <td>Nan</td>\n",
       "      <td>Standard</td>\n",
       "      <td>Advance</td>\n",
       "      <td>3</td>\n",
       "      <td>Liverpool Lime Street</td>\n",
       "      <td>Manchester Piccadilly</td>\n",
       "      <td>2024-01-02</td>\n",
       "      <td>18:15:00</td>\n",
       "      <td>18:45:00</td>\n",
       "      <td>18:45:00</td>\n",
       "      <td>On Time</td>\n",
       "      <td>Nan</td>\n",
       "      <td>No</td>\n",
       "    </tr>\n",
       "    <tr>\n",
       "      <th>3</th>\n",
       "      <td>b2471f11-4fe7-4c87-8ab4</td>\n",
       "      <td>2023-12-20</td>\n",
       "      <td>23:00:36</td>\n",
       "      <td>Station</td>\n",
       "      <td>Credit Card</td>\n",
       "      <td>Nan</td>\n",
       "      <td>Standard</td>\n",
       "      <td>Advance</td>\n",
       "      <td>13</td>\n",
       "      <td>London Paddington</td>\n",
       "      <td>Reading</td>\n",
       "      <td>2024-01-01</td>\n",
       "      <td>21:30:00</td>\n",
       "      <td>22:30:00</td>\n",
       "      <td>22:30:00</td>\n",
       "      <td>On Time</td>\n",
       "      <td>Nan</td>\n",
       "      <td>No</td>\n",
       "    </tr>\n",
       "    <tr>\n",
       "      <th>4</th>\n",
       "      <td>2be00b45-0762-485e-a7a3</td>\n",
       "      <td>2023-12-27</td>\n",
       "      <td>18:22:56</td>\n",
       "      <td>Online</td>\n",
       "      <td>Contactless</td>\n",
       "      <td>Nan</td>\n",
       "      <td>Standard</td>\n",
       "      <td>Advance</td>\n",
       "      <td>76</td>\n",
       "      <td>Liverpool Lime Street</td>\n",
       "      <td>London Euston</td>\n",
       "      <td>2024-01-01</td>\n",
       "      <td>16:45:00</td>\n",
       "      <td>19:00:00</td>\n",
       "      <td>19:00:00</td>\n",
       "      <td>On Time</td>\n",
       "      <td>Nan</td>\n",
       "      <td>No</td>\n",
       "    </tr>\n",
       "  </tbody>\n",
       "</table>\n",
       "</div>"
      ],
      "text/plain": [
       "            Transaction ID Date of Purchase Time of Purchase Purchase Type  \\\n",
       "0  da8a6ba8-b3dc-4677-b176       2023-12-08         12:41:11        Online   \n",
       "1  b0cdd1b0-f214-4197-be53       2023-12-16         11:23:01       Station   \n",
       "2  f3ba7a96-f713-40d9-9629       2023-12-19         19:51:27        Online   \n",
       "3  b2471f11-4fe7-4c87-8ab4       2023-12-20         23:00:36       Station   \n",
       "4  2be00b45-0762-485e-a7a3       2023-12-27         18:22:56        Online   \n",
       "\n",
       "  Payment Method Railcard Ticket Class Ticket Type  Price  \\\n",
       "0    Contactless    Adult     Standard     Advance     43   \n",
       "1    Credit Card    Adult     Standard     Advance     23   \n",
       "2    Credit Card      Nan     Standard     Advance      3   \n",
       "3    Credit Card      Nan     Standard     Advance     13   \n",
       "4    Contactless      Nan     Standard     Advance     76   \n",
       "\n",
       "       Departure Station    Arrival Destination Date of Journey  \\\n",
       "0      London Paddington  Liverpool Lime Street      2024-01-01   \n",
       "1     London Kings Cross                   York      2024-01-01   \n",
       "2  Liverpool Lime Street  Manchester Piccadilly      2024-01-02   \n",
       "3      London Paddington                Reading      2024-01-01   \n",
       "4  Liverpool Lime Street          London Euston      2024-01-01   \n",
       "\n",
       "  Departure Time Arrival Time Actual Arrival Time Journey Status  \\\n",
       "0       11:00:00     13:30:00            13:30:00        On Time   \n",
       "1       09:45:00     11:35:00            11:40:00        Delayed   \n",
       "2       18:15:00     18:45:00            18:45:00        On Time   \n",
       "3       21:30:00     22:30:00            22:30:00        On Time   \n",
       "4       16:45:00     19:00:00            19:00:00        On Time   \n",
       "\n",
       "  Reason for Delay Refund Request  \n",
       "0              Nan             No  \n",
       "1   Signal Failure             No  \n",
       "2              Nan             No  \n",
       "3              Nan             No  \n",
       "4              Nan             No  "
      ]
     },
     "execution_count": 12,
     "metadata": {},
     "output_type": "execute_result"
    }
   ],
   "source": [
    "df.head()"
   ]
  },
  {
   "cell_type": "markdown",
   "id": "8f0495b9",
   "metadata": {},
   "source": [
    "## Handle missing values"
   ]
  },
  {
   "cell_type": "code",
   "execution_count": 13,
   "id": "4d6c8f14",
   "metadata": {},
   "outputs": [
    {
     "data": {
      "text/plain": [
       "Transaction ID            0\n",
       "Date of Purchase          0\n",
       "Time of Purchase          0\n",
       "Purchase Type             0\n",
       "Payment Method            0\n",
       "Railcard                  0\n",
       "Ticket Class              0\n",
       "Ticket Type               0\n",
       "Price                     0\n",
       "Departure Station         0\n",
       "Arrival Destination       0\n",
       "Date of Journey           0\n",
       "Departure Time            0\n",
       "Arrival Time              0\n",
       "Actual Arrival Time    1880\n",
       "Journey Status            0\n",
       "Reason for Delay          0\n",
       "Refund Request            0\n",
       "dtype: int64"
      ]
     },
     "execution_count": 13,
     "metadata": {},
     "output_type": "execute_result"
    }
   ],
   "source": [
    "df.isnull().sum()"
   ]
  },
  {
   "cell_type": "code",
   "execution_count": 20,
   "id": "38ee9a51",
   "metadata": {},
   "outputs": [
    {
     "data": {
      "text/plain": [
       "Transaction ID            0\n",
       "Date of Purchase          0\n",
       "Time of Purchase          0\n",
       "Purchase Type             0\n",
       "Payment Method            0\n",
       "Railcard                  0\n",
       "Ticket Class              0\n",
       "Ticket Type               0\n",
       "Price                     0\n",
       "Departure Station         0\n",
       "Arrival Destination       0\n",
       "Date of Journey           0\n",
       "Departure Time            0\n",
       "Arrival Time              0\n",
       "Actual Arrival Time    1880\n",
       "Journey Status            0\n",
       "Reason for Delay          0\n",
       "Refund Request            0\n",
       "dtype: int64"
      ]
     },
     "execution_count": 20,
     "metadata": {},
     "output_type": "execute_result"
    }
   ],
   "source": [
    "df['Railcard'] = df['Railcard'].fillna(\"None\")\n",
    "df[df['Journey Status']!='On Time']['Reason for Delay']\n",
    "df['Reason for Delay'] = df['Reason for Delay'].fillna(\"Not Delayed\")\n",
    "df.isna().sum()"
   ]
  },
  {
   "cell_type": "markdown",
   "id": "d1b917e1",
   "metadata": {},
   "source": [
    "## Fix date missing"
   ]
  },
  {
   "cell_type": "code",
   "execution_count": 21,
   "id": "e173e1c5",
   "metadata": {},
   "outputs": [],
   "source": [
    "import datetime\n",
    "df['Actual Arrival Time'] = df['Actual Arrival Time'].fillna(datetime.time(0, 0, 0))"
   ]
  },
  {
   "cell_type": "markdown",
   "id": "0fcae1ac",
   "metadata": {},
   "source": [
    "## Final look the data after cleaning"
   ]
  },
  {
   "cell_type": "code",
   "execution_count": 23,
   "id": "7715d0d7",
   "metadata": {},
   "outputs": [
    {
     "name": "stdout",
     "output_type": "stream",
     "text": [
      "<class 'pandas.core.frame.DataFrame'>\n",
      "RangeIndex: 31653 entries, 0 to 31652\n",
      "Data columns (total 18 columns):\n",
      " #   Column               Non-Null Count  Dtype         \n",
      "---  ------               --------------  -----         \n",
      " 0   Transaction ID       31653 non-null  object        \n",
      " 1   Date of Purchase     31653 non-null  datetime64[ns]\n",
      " 2   Time of Purchase     31653 non-null  object        \n",
      " 3   Purchase Type        31653 non-null  object        \n",
      " 4   Payment Method       31653 non-null  object        \n",
      " 5   Railcard             31653 non-null  object        \n",
      " 6   Ticket Class         31653 non-null  object        \n",
      " 7   Ticket Type          31653 non-null  object        \n",
      " 8   Price                31653 non-null  int64         \n",
      " 9   Departure Station    31653 non-null  object        \n",
      " 10  Arrival Destination  31653 non-null  object        \n",
      " 11  Date of Journey      31653 non-null  datetime64[ns]\n",
      " 12  Departure Time       31653 non-null  object        \n",
      " 13  Arrival Time         31653 non-null  object        \n",
      " 14  Actual Arrival Time  31653 non-null  object        \n",
      " 15  Journey Status       31653 non-null  object        \n",
      " 16  Reason for Delay     31653 non-null  object        \n",
      " 17  Refund Request       31653 non-null  object        \n",
      "dtypes: datetime64[ns](2), int64(1), object(15)\n",
      "memory usage: 4.3+ MB\n"
     ]
    },
    {
     "data": {
      "text/plain": [
       "Transaction ID         0\n",
       "Date of Purchase       0\n",
       "Time of Purchase       0\n",
       "Purchase Type          0\n",
       "Payment Method         0\n",
       "Railcard               0\n",
       "Ticket Class           0\n",
       "Ticket Type            0\n",
       "Price                  0\n",
       "Departure Station      0\n",
       "Arrival Destination    0\n",
       "Date of Journey        0\n",
       "Departure Time         0\n",
       "Arrival Time           0\n",
       "Actual Arrival Time    0\n",
       "Journey Status         0\n",
       "Reason for Delay       0\n",
       "Refund Request         0\n",
       "dtype: int64"
      ]
     },
     "execution_count": 23,
     "metadata": {},
     "output_type": "execute_result"
    }
   ],
   "source": [
    "df.head()\n",
    "df.info()\n",
    "df.isna().sum()"
   ]
  },
  {
   "cell_type": "code",
   "execution_count": null,
   "id": "191a8ee5",
   "metadata": {},
   "outputs": [],
   "source": []
  }
 ],
 "metadata": {
  "kernelspec": {
   "display_name": "Python 3",
   "language": "python",
   "name": "python3"
  },
  "language_info": {
   "codemirror_mode": {
    "name": "ipython",
    "version": 3
   },
   "file_extension": ".py",
   "mimetype": "text/x-python",
   "name": "python",
   "nbconvert_exporter": "python",
   "pygments_lexer": "ipython3",
   "version": "3.13.2"
  }
 },
 "nbformat": 4,
 "nbformat_minor": 5
}
